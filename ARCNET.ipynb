{
 "cells": [
  {
   "cell_type": "markdown",
   "id": "795a3741",
   "metadata": {},
   "source": [
    "# Dummy Example"
   ]
  },
  {
   "cell_type": "code",
   "execution_count": null,
   "id": "a163df87",
   "metadata": {
    "vscode": {
     "languageId": "r"
    }
   },
   "outputs": [],
   "source": [
    "import torch\n",
    "from torch.utils.data import DataLoader\n",
    "from torchvision import datasets, transforms\n",
    "from core.blueprint import ArchitectureBlueprint\n",
    "from core.registry import ComponentRegistry\n",
    "from evolution.mutation import mutate_blueprint\n",
    "from evolution.controller import MutationRLController\n",
    "from evolution.transfer import transfer_weights\n",
    "from models.multimodal_learner import MultimodalLearner\n",
    "from core.components import TrackedLayer\n",
    "from data.loader import CombinedDataset\n",
    "\n",
    "transform = transforms.Compose([\n",
    "    transforms.ToTensor(),\n",
    "    transforms.Normalize((0.5,), (0.5,))\n",
    "])\n",
    "\n",
    "mnist_data = datasets.MNIST(root=\"./data\", train=True, download=True, transform=transform)\n",
    "dataset = CombinedDataset(mnist_data)\n",
    "dataloader = DataLoader(dataset, batch_size=32, shuffle=True)\n",
    "\n",
    "blueprint = ArchitectureBlueprint()\n",
    "registry = ComponentRegistry()\n",
    "controller = MutationRLController()\n",
    "\n",
    "init_layer = TrackedLayer(128, 64)\n",
    "blueprint.add_module(init_layer)\n",
    "registry.register(init_layer)\n",
    "\n",
    "adapters = {'image': ImageAdapter(), 'text': TextAdapter()}\n",
    "model = MultimodalLearner(blueprint, adapters)\n",
    "loss_history = []\n",
    "\n",
    "for epoch in range(5):\n",
    "    optimizer = torch.optim.Adam(model.parameters(), lr=1e-3)\n",
    "    total_loss = 0\n",
    "    for batch in dataloader:\n",
    "        x, target = batch\n",
    "        output = model(x)\n",
    "        loss = torch.nn.functional.mse_loss(output, target)\n",
    "        optimizer.zero_grad()\n",
    "        loss.backward()\n",
    "        optimizer.step()\n",
    "        total_loss += loss.item()\n",
    "\n",
    "    avg_loss = total_loss / len(dataloader)\n",
    "    loss_history.append(avg_loss)\n",
    "\n",
    "    state = controller.get_state(loss_history, blueprint)\n",
    "    action = controller.select_action(state)\n",
    "    mutate_blueprint(blueprint, registry)\n",
    "    new_model = MultimodalLearner(blueprint, adapters)\n",
    "    transfer_weights(model, new_model)\n",
    "    model = new_model\n",
    "    next_state = controller.get_state(loss_history, blueprint)\n",
    "    controller.update(state, action, -avg_loss, next_state)\n",
    "    print(f\"Epoch {epoch} Loss: {avg_loss:.4f} | Action: {action}\")\n",
    "\n",
    "    blueprint.visualize(filename=f\"architecture_epoch_{epoch}.png\")"
   ]
  }
 ],
 "metadata": {
  "language_info": {
   "name": "python"
  }
 },
 "nbformat": 4,
 "nbformat_minor": 5
}
